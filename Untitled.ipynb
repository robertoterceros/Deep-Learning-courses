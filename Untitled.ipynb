{
 "cells": [
  {
   "cell_type": "markdown",
   "metadata": {},
   "source": [
    "# First deep learning project using artificial Neural Network"
   ]
  },
  {
   "cell_type": "markdown",
   "metadata": {},
   "source": [
    "The project uses false data to detect wich customer's banks are probably to leave the bank within six month"
   ]
  },
  {
   "cell_type": "code",
   "execution_count": 22,
   "metadata": {},
   "outputs": [],
   "source": [
    "# Importing the libraries\n",
    "import numpy as np\n",
    "import matplotlib.pyplot as plt\n",
    "import pandas as pd"
   ]
  },
  {
   "cell_type": "code",
   "execution_count": 2,
   "metadata": {},
   "outputs": [],
   "source": [
    "# Importing the dataset\n",
    "dataset = pd.read_csv('Churn_Modelling.csv')\n",
    "X = dataset.iloc[:, 3:13].values\n",
    "y = dataset.iloc[:, 13].values"
   ]
  },
  {
   "cell_type": "code",
   "execution_count": 3,
   "metadata": {},
   "outputs": [],
   "source": [
    "# Encoding categorical data\n",
    "from sklearn.preprocessing import LabelEncoder, OneHotEncoder\n",
    "labelencoder_X_1 = LabelEncoder()\n",
    "X[:, 1] = labelencoder_X_1.fit_transform(X[:, 1])\n",
    "labelencoder_X_2 = LabelEncoder()\n",
    "X[:, 2] = labelencoder_X_2.fit_transform(X[:, 2])\n",
    "onehotencoder = OneHotEncoder(categorical_features = [1])\n",
    "X = onehotencoder.fit_transform(X).toarray()\n",
    "X = X[:, 1:]"
   ]
  },
  {
   "cell_type": "code",
   "execution_count": 4,
   "metadata": {},
   "outputs": [],
   "source": [
    "# Splitting the dataset into the Training set and Test set\n",
    "from sklearn.model_selection import train_test_split\n",
    "X_train, X_test, y_train, y_test = train_test_split(X, y, test_size = 0.2, random_state = 0)\n"
   ]
  },
  {
   "cell_type": "code",
   "execution_count": 5,
   "metadata": {},
   "outputs": [],
   "source": [
    "# Feature Scaling\n",
    "from sklearn.preprocessing import StandardScaler\n",
    "sc = StandardScaler()\n",
    "X_train = sc.fit_transform(X_train)\n",
    "X_test = sc.transform(X_test)"
   ]
  },
  {
   "cell_type": "markdown",
   "metadata": {},
   "source": [
    "## Part 2 - Now let's make the ANN!"
   ]
  },
  {
   "cell_type": "code",
   "execution_count": 6,
   "metadata": {},
   "outputs": [
    {
     "name": "stderr",
     "output_type": "stream",
     "text": [
      "C:\\Users\\Roberto\\Anaconda3\\envs\\tensorflow\\lib\\site-packages\\h5py\\__init__.py:36: FutureWarning: Conversion of the second argument of issubdtype from `float` to `np.floating` is deprecated. In future, it will be treated as `np.float64 == np.dtype(float).type`.\n",
      "  from ._conv import register_converters as _register_converters\n",
      "Using TensorFlow backend.\n"
     ]
    }
   ],
   "source": [
    "# Importing the Keras libraries and packages\n",
    "import keras\n",
    "from keras.models import Sequential\n",
    "from keras.layers import Dense"
   ]
  },
  {
   "cell_type": "code",
   "execution_count": 7,
   "metadata": {},
   "outputs": [
    {
     "name": "stdout",
     "output_type": "stream",
     "text": [
      "Epoch 1/100\n",
      "8000/8000 [==============================] - 2s 214us/step - loss: 0.4849 - acc: 0.7950\n",
      "Epoch 2/100\n",
      "8000/8000 [==============================] - 1s 111us/step - loss: 0.4279 - acc: 0.7960\n",
      "Epoch 3/100\n",
      "8000/8000 [==============================] - 1s 131us/step - loss: 0.4221 - acc: 0.8001\n",
      "Epoch 4/100\n",
      "8000/8000 [==============================] - 1s 131us/step - loss: 0.4180 - acc: 0.8232\n",
      "Epoch 5/100\n",
      "8000/8000 [==============================] - 1s 123us/step - loss: 0.4158 - acc: 0.8280\n",
      "Epoch 6/100\n",
      "8000/8000 [==============================] - 1s 113us/step - loss: 0.4133 - acc: 0.8297\n",
      "Epoch 7/100\n",
      "8000/8000 [==============================] - 1s 109us/step - loss: 0.4122 - acc: 0.8329\n",
      "Epoch 8/100\n",
      "8000/8000 [==============================] - 1s 109us/step - loss: 0.4110 - acc: 0.8326\n",
      "Epoch 9/100\n",
      "8000/8000 [==============================] - 2s 202us/step - loss: 0.4097 - acc: 0.8317\n",
      "Epoch 10/100\n",
      "8000/8000 [==============================] - 1s 156us/step - loss: 0.4087 - acc: 0.8349\n",
      "Epoch 11/100\n",
      "8000/8000 [==============================] - 1s 117us/step - loss: 0.4081 - acc: 0.8357\n",
      "Epoch 12/100\n",
      "8000/8000 [==============================] - 1s 123us/step - loss: 0.4074 - acc: 0.8334\n",
      "Epoch 13/100\n",
      "8000/8000 [==============================] - 1s 165us/step - loss: 0.4061 - acc: 0.8329\n",
      "Epoch 14/100\n",
      "8000/8000 [==============================] - 1s 118us/step - loss: 0.4062 - acc: 0.8349\n",
      "Epoch 15/100\n",
      "8000/8000 [==============================] - 1s 148us/step - loss: 0.4057 - acc: 0.8347\n",
      "Epoch 16/100\n",
      "8000/8000 [==============================] - 1s 155us/step - loss: 0.4055 - acc: 0.8354\n",
      "Epoch 17/100\n",
      "8000/8000 [==============================] - 1s 123us/step - loss: 0.4048 - acc: 0.8334\n",
      "Epoch 18/100\n",
      "8000/8000 [==============================] - 1s 125us/step - loss: 0.4047 - acc: 0.8355\n",
      "Epoch 19/100\n",
      "8000/8000 [==============================] - 1s 128us/step - loss: 0.4043 - acc: 0.8351 0s - loss: 0.4\n",
      "Epoch 20/100\n",
      "8000/8000 [==============================] - 1s 160us/step - loss: 0.4040 - acc: 0.8370\n",
      "Epoch 21/100\n",
      "8000/8000 [==============================] - 1s 125us/step - loss: 0.4037 - acc: 0.8365\n",
      "Epoch 22/100\n",
      "8000/8000 [==============================] - ETA: 0s - loss: 0.4035 - acc: 0.833 - 1s 124us/step - loss: 0.4033 - acc: 0.8342\n",
      "Epoch 23/100\n",
      "8000/8000 [==============================] - 1s 115us/step - loss: 0.4035 - acc: 0.8350\n",
      "Epoch 24/100\n",
      "8000/8000 [==============================] - 1s 124us/step - loss: 0.4032 - acc: 0.8342\n",
      "Epoch 25/100\n",
      "8000/8000 [==============================] - 1s 177us/step - loss: 0.4027 - acc: 0.8357\n",
      "Epoch 26/100\n",
      "8000/8000 [==============================] - 1s 131us/step - loss: 0.4027 - acc: 0.8342\n",
      "Epoch 27/100\n",
      "8000/8000 [==============================] - 1s 171us/step - loss: 0.4027 - acc: 0.8345\n",
      "Epoch 28/100\n",
      "8000/8000 [==============================] - 1s 125us/step - loss: 0.4025 - acc: 0.8334\n",
      "Epoch 29/100\n",
      "8000/8000 [==============================] - 1s 143us/step - loss: 0.4023 - acc: 0.8362\n",
      "Epoch 30/100\n",
      "8000/8000 [==============================] - 1s 142us/step - loss: 0.4021 - acc: 0.8342\n",
      "Epoch 31/100\n",
      "8000/8000 [==============================] - 1s 119us/step - loss: 0.4022 - acc: 0.8371\n",
      "Epoch 32/100\n",
      "8000/8000 [==============================] - 1s 122us/step - loss: 0.4015 - acc: 0.8349\n",
      "Epoch 33/100\n",
      "8000/8000 [==============================] - 1s 119us/step - loss: 0.4021 - acc: 0.8349\n",
      "Epoch 34/100\n",
      "8000/8000 [==============================] - 1s 168us/step - loss: 0.4019 - acc: 0.8355\n",
      "Epoch 35/100\n",
      "8000/8000 [==============================] - 2s 254us/step - loss: 0.4017 - acc: 0.8346\n",
      "Epoch 36/100\n",
      "8000/8000 [==============================] - 2s 311us/step - loss: 0.4016 - acc: 0.8351\n",
      "Epoch 37/100\n",
      "8000/8000 [==============================] - 2s 281us/step - loss: 0.4017 - acc: 0.8342\n",
      "Epoch 38/100\n",
      "8000/8000 [==============================] - 1s 172us/step - loss: 0.4012 - acc: 0.8351\n",
      "Epoch 39/100\n",
      "8000/8000 [==============================] - 1s 163us/step - loss: 0.4014 - acc: 0.8366\n",
      "Epoch 40/100\n",
      "8000/8000 [==============================] - 2s 251us/step - loss: 0.4011 - acc: 0.8356\n",
      "Epoch 41/100\n",
      "8000/8000 [==============================] - 2s 242us/step - loss: 0.4012 - acc: 0.8357\n",
      "Epoch 42/100\n",
      "8000/8000 [==============================] - 2s 252us/step - loss: 0.4008 - acc: 0.8340\n",
      "Epoch 43/100\n",
      "8000/8000 [==============================] - 2s 242us/step - loss: 0.4012 - acc: 0.8356\n",
      "Epoch 44/100\n",
      "8000/8000 [==============================] - 1s 187us/step - loss: 0.4008 - acc: 0.8350\n",
      "Epoch 45/100\n",
      "8000/8000 [==============================] - 1s 184us/step - loss: 0.4006 - acc: 0.8376\n",
      "Epoch 46/100\n",
      "8000/8000 [==============================] - 2s 245us/step - loss: 0.4006 - acc: 0.8367\n",
      "Epoch 47/100\n",
      "8000/8000 [==============================] - 2s 202us/step - loss: 0.4009 - acc: 0.8336\n",
      "Epoch 48/100\n",
      "8000/8000 [==============================] - 2s 198us/step - loss: 0.4012 - acc: 0.8355\n",
      "Epoch 49/100\n",
      "8000/8000 [==============================] - 2s 206us/step - loss: 0.4006 - acc: 0.8337\n",
      "Epoch 50/100\n",
      "8000/8000 [==============================] - 1s 179us/step - loss: 0.4009 - acc: 0.8357\n",
      "Epoch 51/100\n",
      "8000/8000 [==============================] - 1s 177us/step - loss: 0.4009 - acc: 0.8359\n",
      "Epoch 52/100\n",
      "8000/8000 [==============================] - 2s 189us/step - loss: 0.4000 - acc: 0.8336\n",
      "Epoch 53/100\n",
      "8000/8000 [==============================] - 1s 180us/step - loss: 0.4009 - acc: 0.8356\n",
      "Epoch 54/100\n",
      "8000/8000 [==============================] - 2s 196us/step - loss: 0.4000 - acc: 0.8362\n",
      "Epoch 55/100\n",
      "8000/8000 [==============================] - 2s 192us/step - loss: 0.4010 - acc: 0.8362\n",
      "Epoch 56/100\n",
      "8000/8000 [==============================] - 1s 185us/step - loss: 0.4005 - acc: 0.8355\n",
      "Epoch 57/100\n",
      "8000/8000 [==============================] - 2s 255us/step - loss: 0.3999 - acc: 0.8352\n",
      "Epoch 58/100\n",
      "8000/8000 [==============================] - 2s 247us/step - loss: 0.4001 - acc: 0.8361\n",
      "Epoch 59/100\n",
      "8000/8000 [==============================] - 2s 189us/step - loss: 0.4000 - acc: 0.8361\n",
      "Epoch 60/100\n",
      "8000/8000 [==============================] - 2s 238us/step - loss: 0.3999 - acc: 0.8366\n",
      "Epoch 61/100\n",
      "8000/8000 [==============================] - 2s 215us/step - loss: 0.4004 - acc: 0.8349\n",
      "Epoch 62/100\n",
      "8000/8000 [==============================] - 2s 272us/step - loss: 0.4003 - acc: 0.8356\n",
      "Epoch 63/100\n",
      "8000/8000 [==============================] - 1s 182us/step - loss: 0.3999 - acc: 0.8355\n",
      "Epoch 64/100\n",
      "8000/8000 [==============================] - 1s 184us/step - loss: 0.4001 - acc: 0.8346\n",
      "Epoch 65/100\n",
      "8000/8000 [==============================] - 1s 185us/step - loss: 0.3999 - acc: 0.8351\n",
      "Epoch 66/100\n",
      "8000/8000 [==============================] - 2s 235us/step - loss: 0.4006 - acc: 0.8352\n",
      "Epoch 67/100\n",
      "8000/8000 [==============================] - 2s 238us/step - loss: 0.4004 - acc: 0.8367\n",
      "Epoch 68/100\n",
      "8000/8000 [==============================] - 2s 223us/step - loss: 0.3999 - acc: 0.8367\n",
      "Epoch 69/100\n",
      "8000/8000 [==============================] - 2s 241us/step - loss: 0.4005 - acc: 0.8351\n",
      "Epoch 70/100\n",
      "8000/8000 [==============================] - 2s 257us/step - loss: 0.4003 - acc: 0.8357\n",
      "Epoch 71/100\n",
      "8000/8000 [==============================] - 2s 240us/step - loss: 0.4000 - acc: 0.8361\n",
      "Epoch 72/100\n",
      "8000/8000 [==============================] - 2s 220us/step - loss: 0.4004 - acc: 0.8364\n",
      "Epoch 73/100\n",
      "8000/8000 [==============================] - 2s 227us/step - loss: 0.3998 - acc: 0.8352\n",
      "Epoch 74/100\n",
      "8000/8000 [==============================] - 2s 212us/step - loss: 0.3995 - acc: 0.8352\n",
      "Epoch 75/100\n",
      "8000/8000 [==============================] - 2s 197us/step - loss: 0.4002 - acc: 0.8364\n",
      "Epoch 76/100\n",
      "8000/8000 [==============================] - 2s 200us/step - loss: 0.3999 - acc: 0.8366\n",
      "Epoch 77/100\n",
      "8000/8000 [==============================] - 2s 205us/step - loss: 0.3998 - acc: 0.8354\n",
      "Epoch 78/100\n",
      "8000/8000 [==============================] - 2s 190us/step - loss: 0.4000 - acc: 0.8357\n",
      "Epoch 79/100\n",
      "8000/8000 [==============================] - 2s 190us/step - loss: 0.3999 - acc: 0.8347\n",
      "Epoch 80/100\n",
      "8000/8000 [==============================] - 2s 201us/step - loss: 0.3991 - acc: 0.8364\n",
      "Epoch 81/100\n"
     ]
    },
    {
     "name": "stdout",
     "output_type": "stream",
     "text": [
      "8000/8000 [==============================] - 1s 180us/step - loss: 0.3996 - acc: 0.8352\n",
      "Epoch 82/100\n",
      "8000/8000 [==============================] - 1s 179us/step - loss: 0.3999 - acc: 0.8366\n",
      "Epoch 83/100\n",
      "8000/8000 [==============================] - 1s 171us/step - loss: 0.3995 - acc: 0.8354\n",
      "Epoch 84/100\n",
      "8000/8000 [==============================] - 2s 188us/step - loss: 0.4000 - acc: 0.8367\n",
      "Epoch 85/100\n",
      "8000/8000 [==============================] - 2s 196us/step - loss: 0.3996 - acc: 0.8351\n",
      "Epoch 86/100\n",
      "8000/8000 [==============================] - 2s 190us/step - loss: 0.3997 - acc: 0.8347\n",
      "Epoch 87/100\n",
      "8000/8000 [==============================] - 2s 190us/step - loss: 0.3999 - acc: 0.8355\n",
      "Epoch 88/100\n",
      "8000/8000 [==============================] - 1s 177us/step - loss: 0.3993 - acc: 0.8360\n",
      "Epoch 89/100\n",
      "8000/8000 [==============================] - 1s 161us/step - loss: 0.3998 - acc: 0.8356\n",
      "Epoch 90/100\n",
      "8000/8000 [==============================] - 1s 164us/step - loss: 0.3997 - acc: 0.8341\n",
      "Epoch 91/100\n",
      "8000/8000 [==============================] - 1s 174us/step - loss: 0.3998 - acc: 0.8359\n",
      "Epoch 92/100\n",
      "8000/8000 [==============================] - 1s 165us/step - loss: 0.3991 - acc: 0.8349\n",
      "Epoch 93/100\n",
      "8000/8000 [==============================] - 1s 161us/step - loss: 0.4000 - acc: 0.8371\n",
      "Epoch 94/100\n",
      "8000/8000 [==============================] - 1s 165us/step - loss: 0.3994 - acc: 0.8352\n",
      "Epoch 95/100\n",
      "8000/8000 [==============================] - 1s 177us/step - loss: 0.3998 - acc: 0.8357\n",
      "Epoch 96/100\n",
      "8000/8000 [==============================] - 1s 171us/step - loss: 0.3996 - acc: 0.8360\n",
      "Epoch 97/100\n",
      "8000/8000 [==============================] - 1s 167us/step - loss: 0.3995 - acc: 0.8352\n",
      "Epoch 98/100\n",
      "8000/8000 [==============================] - 1s 171us/step - loss: 0.3995 - acc: 0.8359\n",
      "Epoch 99/100\n",
      "8000/8000 [==============================] - 1s 168us/step - loss: 0.3995 - acc: 0.8350\n",
      "Epoch 100/100\n",
      "8000/8000 [==============================] - 1s 173us/step - loss: 0.3997 - acc: 0.8359\n"
     ]
    },
    {
     "data": {
      "text/plain": [
       "<keras.callbacks.History at 0x2b21089dc50>"
      ]
     },
     "execution_count": 7,
     "metadata": {},
     "output_type": "execute_result"
    }
   ],
   "source": [
    "# Initialising the ANN\n",
    "classifier = Sequential()\n",
    "\n",
    "# Adding the input layer and the first hidden layer\n",
    "classifier.add(Dense(units = 6, kernel_initializer = 'uniform', activation = 'relu', input_dim = 11))\n",
    "\n",
    "# Adding the second hidden layer\n",
    "classifier.add(Dense(units = 6, kernel_initializer = 'uniform', activation = 'relu'))\n",
    "\n",
    "# Adding the output layer\n",
    "classifier.add(Dense(units = 1, kernel_initializer = 'uniform', activation = 'sigmoid'))\n",
    "\n",
    "# Compiling the ANN\n",
    "classifier.compile(optimizer = 'adam', loss = 'binary_crossentropy', metrics = ['accuracy'])\n",
    "\n",
    "# Fitting the ANN to the Training set\n",
    "classifier.fit(X_train, y_train, batch_size = 10, epochs = 100)"
   ]
  },
  {
   "cell_type": "markdown",
   "metadata": {},
   "source": [
    "# Part 3 - Making predictions and evaluating the model"
   ]
  },
  {
   "cell_type": "code",
   "execution_count": 9,
   "metadata": {},
   "outputs": [],
   "source": [
    "# Predicting the Test set results\n",
    "y_pred = classifier.predict(X_test) #probabilities of the custumer leave the bank\n",
    "y_pred = (y_pred > 0.5) #here we have the output"
   ]
  },
  {
   "cell_type": "code",
   "execution_count": 15,
   "metadata": {},
   "outputs": [],
   "source": [
    "from sklearn.metrics import confusion_matrix\n",
    "cm = confusion_matrix(y_test, y_pred)"
   ]
  },
  {
   "cell_type": "code",
   "execution_count": 16,
   "metadata": {},
   "outputs": [
    {
     "data": {
      "text/plain": [
       "array([[1529,   66],\n",
       "       [ 252,  153]], dtype=int64)"
      ]
     },
     "execution_count": 16,
     "metadata": {},
     "output_type": "execute_result"
    }
   ],
   "source": [
    "cm"
   ]
  },
  {
   "cell_type": "code",
   "execution_count": 18,
   "metadata": {},
   "outputs": [
    {
     "name": "stdout",
     "output_type": "stream",
     "text": [
      "The accuracy of the model is:  0.841\n"
     ]
    }
   ],
   "source": [
    "accuracy = (1529 + 153)/2000\n",
    "print(\"The accuracy of the model is: \", accuracy)"
   ]
  },
  {
   "cell_type": "markdown",
   "metadata": {},
   "source": [
    "## Part 4 - HOMEWORK "
   ]
  },
  {
   "cell_type": "code",
   "execution_count": 27,
   "metadata": {},
   "outputs": [],
   "source": [
    "X_test_new = sc.fit_transform(np.array([[0.,0,600, 1, 40, 3, 60000, 2, 1, 1, 50000]]))\n",
    "y_pred_new = classifier.predict(X_test_new) #probabilities of the custumer leave the bank\n",
    "y_pred_new = (y_pred_new > 0.5) #here we have the output"
   ]
  },
  {
   "cell_type": "code",
   "execution_count": 26,
   "metadata": {},
   "outputs": [
    {
     "data": {
      "text/plain": [
       "array([[False]])"
      ]
     },
     "execution_count": 26,
     "metadata": {},
     "output_type": "execute_result"
    }
   ],
   "source": [
    "y_pred_new"
   ]
  }
 ],
 "metadata": {
  "kernelspec": {
   "display_name": "Python 3",
   "language": "python",
   "name": "python3"
  },
  "language_info": {
   "codemirror_mode": {
    "name": "ipython",
    "version": 3
   },
   "file_extension": ".py",
   "mimetype": "text/x-python",
   "name": "python",
   "nbconvert_exporter": "python",
   "pygments_lexer": "ipython3",
   "version": "3.5.5"
  }
 },
 "nbformat": 4,
 "nbformat_minor": 2
}
